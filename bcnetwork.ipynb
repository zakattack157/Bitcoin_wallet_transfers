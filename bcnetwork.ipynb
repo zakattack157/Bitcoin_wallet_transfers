{
 "cells": [
  {
   "cell_type": "code",
   "execution_count": 1,
   "id": "b5f37eab",
   "metadata": {},
   "outputs": [],
   "source": [
    "import networkx\n",
    "import csv"
   ]
  }
 ],
 "metadata": {
  "kernelspec": {
   "display_name": "cs490",
   "language": "python",
   "name": "python3"
  },
  "language_info": {
   "codemirror_mode": {
    "name": "ipython",
    "version": 3
   },
   "file_extension": ".py",
   "mimetype": "text/x-python",
   "name": "python",
   "nbconvert_exporter": "python",
   "pygments_lexer": "ipython3",
   "version": "3.12.6"
  }
 },
 "nbformat": 4,
 "nbformat_minor": 5
}
