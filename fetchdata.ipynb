{
 "cells": [
  {
   "cell_type": "code",
   "execution_count": 30,
   "metadata": {},
   "outputs": [],
   "source": [
    "import requests\n",
    "import time\n",
    "import networkx"
   ]
  },
  {
   "cell_type": "markdown",
   "metadata": {},
   "source": [
    "The following function will be used to retrieve the transaction hashes from a \"block\" from the Bitcoin blockchain. Blocks simply hold transaction info from a certain set of timestamps. We will be doing this by using Blockchair's API endpoint throughout this notebook."
   ]
  },
  {
   "cell_type": "code",
   "execution_count": 31,
   "metadata": {},
   "outputs": [
    {
     "name": "stdout",
     "output_type": "stream",
     "text": [
      "['c789c094f68dcfb9516b6c48e39c3dd27914aae7563b6a9a9c656b488f89c5ba', 'afd521f6eb5e7d958dd798f49bbc2d0abbbd42592f1f6f4e24929cae64810d7b', '0ce777ef98e67df2462e75d74fbfaf254b60cbd15d5b52509268b28c16be6b51', '33395802910d8089c27fa15066aac9af3e74479e82b430014165fc683460ec5d', '3c23a71d4b7e2da4c49cd36c90985ac450f70e4a5c692c5deb8d8910d0165abe', '2c5d54cd1ca1c7b695514cf08c468f19281ed2e234793c37e6fd14ff14e4340d', 'b43d37ee446ee6c33664e9e9781dc2165dec0d50bf3e8684cbd0062d83315132', 'f0fc3394851d75e157a24cea43ba04c2b92566c9330944137b563cda07411feb', '95e366bb77052b2b8cbc3d5bbd53dc5c4d7a85b563a09d5c7644f58dea8ef1fd', 'f7cabf97bfcca9b978a38abe172a8b77081383d79e81efa6d3501ae24f876386', '5f1635dbc7df8500bc52fc37b7028370ead792598341767be9c3b1ceddc6c1e9', '940e7a4fd6fb43a72c34b114f6fde0d6915c7a387a40b7e2a2d3ede9e0609a01', 'dd86a5d76364fd0e5c2b93e3ac2064355591dd67364ad06e2cc741fcf8764a3a', 'c1c064d9598a952fd064636b5a689e52dccb2c182a68f4d7120cce7ef2c0e9af', '00036755704b988c526c0f8a310ad13bb176c9c804ed84e2170a390f4665dd38', 'ed366f008e413c7bb840ec39491f04a2e628f4b0e78819f9eb4f25e3d56afadd', '9249bbbbd5af6b00dd6574cb690af151d965dd396be5dc09c90d20b09b0b222f', '781133aaceb4840b54122fc355c32889e6f6372de43c1529d50d420d8814f698', '320092ebb1ac3fe8350ec466674790bdc996a05b612429f1b166e1725155b978', '2e604e45d1cfb78e36f37ee9da36452e35c7fcbfb4670f0b829e7ef35069a6a8', 'a425533ed39b15c5bd0b966f01d9ce839e9169349da80a11a8d7c377e34df719', '936f3c096f7731ebb28f15643b724a41683c9041132de9f7cdb98e2360a56a75', '5a066d084af439b6dda0a42a7e713d3b7dbee3b5b04dd8d7158888d110aa37e0', '5cf3d81e0c90e7f08cad89df770d684c56fc981b4663a07a84262df7f1bb51c6', '51b780d7d7495f3a5ef1012ca2f85447452fa3fef8f439fd698e5e9912c5f472', '1d647acb99c8f305cc689fba2289bc97ecae42950d38398b108159fc90df3608', 'd34bdcc0ae4a5c43863e8cc2f953b6a552b84516c763dd52608409df3eb38bd3', '6a16eec46eb7d22a36c73cc1e5c5519b0d17192cf4ee0f76fe27826eb5ecdf3f', '5e082072f076af5b99b7523352de4df1df3a0bf3b1c285788b13dd0d05acb669', '28a0358410938408a1d9afb87ae2fb064fc37f1ff513d7107f16c397d96251a5', 'b5cb6f47ad1b7634c0595c158b3f0872506bfb0d65d55b9c4be1a40ae08741ba', '722b529cf2a9358de009dfab54bfac8b2686476601bc88efd43e15e2005409cb', '94d68004ec98055f54861466376d2ac0cd4eaa935449bf0bde446180d79ed9a0', '57124142fba65e715055a52595cfa3e7748ff4338c777a33fe9bcc3605fa1f69', '0bf40e6ff61cfa3dcd1031adba0ed8643737214c2da2a2dbb3a2194eaa01939d', 'ca9e113411cc4e12109b14712b84c53b3ce1f641c3ddb7e956e5d7250bc3fd99', '942679ef90a6c8fc3211a84b7c496870a8d0ee982121977ce154b01b050a3dde', 'f45745ee412d2e77f66814cb287426567abe51429e8846e17b7d2feee8cee7af', 'a1b69530955271c99de57c08c52c3f3e4ea5f6eff0ddbf3011df9a63376b450a', 'edc177975a9dc685c3f6f0c6e721acdfd9552a90387475c26b5dbe7cc4ab04e8', '80a9f646fd9b5ab9599bc13a260e7ee1042968a1eedad4762cac8ebb990af8fe', '4117aafb95bb6dc985efdd6b6c9e5b715cad6cd526d13b5e37a2eee45d09d847', 'c85f4d8d4f049b099c9f364a4779890b84e045a9bff9b093c1ef3b2699649918', '1e9f5eefc5990d7ba6ddd2e57a70b6450f071cf14c5cf6810907d8956110ed4a', '24ca9073637f061730b29c540289b1d913a4f9e3b33b83ff644cd5fecd93616e', 'a8146c28a700da410d40d7d55bc8f2ebb27cd1b2fe614154a17ca894b3c7cd97', '0a912d8f323dba5f6f9145aee3b61c3d9cab082bae914454b9f8baa596e89bd7', '95ec0ae4b3287f348373cfd606e7e858aeee8b5d7adad80c24f1da54ca171c8d', '7f179c78b0b1f1b89cdee7110418009f3580a85a54d746bd9c83100ea4cf2bd8', '3efa7120d2ee4ce524da975782a99d4ff1a45348de70ce0b34be00e0171f857f', 'dff1aa77aa1f8f389f30df8a4847317bb220a3adce00b0dabd80ee206bccf6ed', '750ef67dae03e5140e6f060cc206901c2cbd66a96996b440c17f970eb388d1f9', '6260b5c663dd23d90404beda0fd956d0f1b2e8e1f7734e4d0e66a67bd7f0cf81', '57d9e75d86570abb32403f1b4a5074f2fa1556c06bd87e5ebb16010358555260', '27c1100f9b6e300b3240c280394e58ec61993f464a04ec5803b3e535e8d63c62', '2bd907e8424bf13036b652d5503fecc82d188f4e3c969d4c4d281ca96a5cdee4', '5608359d8391594177d0457d41a1ac596d6215777317aa36502c3736430bdc6c', 'b9a9d2e466cf70f4a48a7cb014069475c8e9e486464dbd9a334d917a050f3b2a', '08a53986e56661c080595bf546cd1abe0884d649bce7ad738d7fdead5d71b55f', '3a7f0c4c4dfdefb651d2ebfcfbef1ebf222d1c12f80f4853ffeffa54602699a7', '81ef15f94a4bad58414aa6c8418f1c1fcbaff860ac43accdfd7888a68df777f7', '70a6848e9baeb7ca7e6c5b08fbc387cc51e81161ed3126c1051325e3808dcfab', '4b699d98609b8ec9870cb6f4ea0d483d396f53497a4484a2eb075b1ce96e56e1', 'f63103a0ae31346fce5805c74b0416e91ee9b08d514351ccb9e8735a73bc5504', '2ee2eeac62c1be094d5742bf5e957df319567051a6ae0bcb32c646b5e3f89692', 'd7600de86a3ff6c9df77af8d3b4e9500dce278cb3c39483e59cbf4d4e206cbfb', '481ebd59a48c313630229817ebf0269890ab89a7315524490ab76625e3d40065', 'f2c215087e5add7589b0b155cc1379929a871105d4fae92869b17c3de0aff633', '60c7656228a80127bfbfba7a2682f89cc4a4460b441dfb45949bd2b3ad02ace5', 'ee5a4021cbcf0bbaa8af7d46276b65e0cc32df3e063a7f347d34880fecceeb7f', '9d7218d3b8d5766a56cc3a7c29f88550871ac5d8f2e7914b050963f60deaed5b', '99c2f32ba96fad308a43f212f83a560acec0d34938525d7bddaa965192403056', 'b3e0ab32e61a30599e9698d58b1a816471825df587f10e8a0604b13d118b3999', 'd3ea7f9e57b9a03173a8974327aa86fac78bf9256e1eebef12d57b56556262c9', '2ec4bce00946df8b9ae6a0d153a387c9d1a2c4c9edf2cdbf0f6aa5e297679cd1', 'dd8bc90287fb13cda7625c6b14935a81fdd7189eaf4fe10f7353edfb2b77e424', 'd755ea8bc9371fa35cb49b60e295aa6c0ad64c63e2eb060d830a56cbcc80c3b4', 'c0c6340434eb8fd99631d7ca16cfb50cbbe09c177fb41655b3bea36d80878c61', '48c260cc58f5b3e4cfc5a070c95da8641db03cbe57d1a3b6fecf9280735db6d5', 'c88ae4838d5ca8161b9ef6030e1971f12b12ef4a3b635ccbffd7792a69a4edeb', '8085892c664e034b692f3dbe2cf499fd971295b6c1ddc3669ef408a85da5b699', '153dc1c91d5a23421d969b973594ad9582fd007bd3d27d1abef37b8f879cbeaf', '6411d139be08717da22081026026a95597cec1498047a1e81f8ffc8cd7aeb14a', '5d72a7cbbf5ee70ab84123fe9d344ec6cf125fb7e4b25d9442112acb3438332c', '05f9a52a642b3c90168e4ac6777a79514035e245be2d3c31e1e74fb79bb06675', '71c22d4374318b53b62ed27c95e3189d0921577d09b1f1954048f8ed2a9f57e8', '1375f72d0ec807d6c73a475004c5de2ea284441374385c0831d785b6df473522', '18d5fa1315648701a35612cf723893e360840c62b2e9ca2f9819f3254885f469', '6bf1e7706ee0e899cc521061e3df757d8cf458fa5c7d016ee76274969c0aa821', '0db6ce9cd6cfe48460e474b61f8ed8ab0d1bdaab3bf59a7c3a4849cb73ca0e28', 'fa57009afd3141fc1034afd10fa32e4ff53d7329764a55fb9b210b6df6f22434', '3547a3d8165a685fa8aa8d2a8704073ab7b23c8a3e61f5d803fd482f94f5a975', '879fc218dfac6fab0e45f2219a83655504b7979a213d71946376b1a4c054d551', '99ad680db4a382955ef226f29b4e449f6a6a65f301e4a9746a9b3b9cf3f487cb', '9dfe5a85046b788b847c1b8979504c2714dd2331352c1b2bce83f6e92941a28b', '2824322262e141f339195881636426c8ce7815ac417d306027ff70b9f7afe626', '4c4ae68770b91fab34a29b4ec5b9462deb50c1ee7d2275a69d95ebb2b72d89db', '24bcada70ec55c40aa09f28a44a0ce22635e26787d3f7622453e28baf2647c1a', '2cafceb2f9f0f395b848397c5053970af5ad158011cef37a2ecddd76984618d6', 'cb6e6fce5bad83f7c6acfa3c9abc901cf0ae32c1bb02d489fa54cf9809c6feb5']\n"
     ]
    }
   ],
   "source": [
    "def get_block_transactions(height):\n",
    "    response = requests.get(f\"https://api.blockchair.com/bitcoin/dashboards/block/{height}\")\n",
    "    hash_value = response.json()['data'][f'{height}']['transactions']\n",
    "    print(hash_value)\n",
    "    return hash_value\n",
    "    \n",
    "transactions = get_block_transactions(893211)"
   ]
  },
  {
   "cell_type": "markdown",
   "metadata": {},
   "source": [
    "Next, we take these transaction hashes and call a second endpoint to get the wallet addresses of the sender (labelled as input), as well as the recipient(s) (labelled output 1, 2, etc). There are situations where the sender will have an output as well, this is when the order has change that is sent back to the sender."
   ]
  },
  {
   "cell_type": "code",
   "execution_count": 32,
   "metadata": {},
   "outputs": [
    {
     "name": "stdout",
     "output_type": "stream",
     "text": [
      "⛏️ Coinbase transaction skipped: c789c094f68dcfb9516b6c48e39c3dd27914aae7563b6a9a9c656b488f89c5ba\n",
      "[['3QiETomgUhPu573ZvhXbdofq7y5ocNS1ie', 0.00187043, 2.3588799, 'bc1q2lewcd34manw2f4xw7n6lgjyt6ghx955snd3c0', '3QiETomgUhPu573ZvhXbdofq7y5ocNS1ie'], ['bc1qryhgpmfv03qjhhp2dj8nw8g4ewg08jzmgy3cyx', 0.01447595, 0.00105711, 'bc1qryhgpmfv03qjhhp2dj8nw8g4ewg08jzmgy3cyx', 'bc1qjzfd8lklg9puf85nkasarv25xsufuqadzzg0wxa8g5xlhlql5g4smj8exe'], ['bc1pa6kpdcjc6zgtdpv2kku5jxxfujmmzh0vl5mg56y3eyesgdmj356s42dyal', 2.02875151, 'bc1qsh49g2tf829jwp5md4afx8eg49jk0a9rzn23yp'], ['bc1q452chy76h70tz02pea525qdm8js5zusz5w99en', 0.025, 0.00464744, 'bc1qx8nxcjqlxplqsrjd9s89cjh6lvcyjq3us84cr5', 'bc1q452chy76h70tz02pea525qdm8js5zusz5w99en'], ['bc1p0wwtdmwv47a2xvej32d07hv0ztflrahpej2ewuvmk0x7rj968frs0ku0qd', 7.636e-05, 0.00079, 0.00079, 'bc1p0wwtdmwv47a2xvej32d07hv0ztflrahpej2ewuvmk0x7rj968frs0ku0qd', 'bc1qe7pslj3p0cjr5s0gzy6p03xg9g5ng0mwlyxrcd', 'bc1qe7pslj3p0cjr5s0gzy6p03xg9g5ng0mwlyxrcd'], ['3PbYm5SPCtbac8i71TAW88pvdgCJwwsFrK', 0.0004878, '3JvRDSdRnkaByaCy47QJRWpEGkhTjZ12PS'], ['3PbYm5SPCtbac8i71TAW88pvdgCJwwsFrK', 0.0008988, '3JvRDSdRnkaByaCy47QJRWpEGkhTjZ12PS'], ['3G2pgtDegfyusPncWmkJmfKuBegogFy2e8', 0.00302771, '3AKkTihyN3VTwa7fxW7hfMUFPB2vikShj1'], ['bc1p4mv92fse0dxvnyf65fc4k5sqzyc6s04dhkka944a6rfsxd398x7q9ndnnj', 3.186e-05, 0.0858895, 'bc1pxm5rss2xwjfup480agfnjcvhvgjn3f64uzmg39yuhwfagghwpvtsru0hhz', 'bc1p4mv92fse0dxvnyf65fc4k5sqzyc6s04dhkka944a6rfsxd398x7q9ndnnj'], ['12BBBAxfyiek1oyLP17BQmeJ84jMS1HiVx', 8.44e-06, 'bc1qpm6jq8pkzg9uyvjq997gm4073gve7kgujup3aa'], ['bc1pxm5rss2xwjfup480agfnjcvhvgjn3f64uzmg39yuhwfagghwpvtsru0hhz', 5.46e-06, '1EjM4uUf4mnc2U98BvB8ZsuWDNuC3Uw3dU'], ['3DFojvVqZQs6wVbix5ged6GS4WTQgfaxwL', 0.000304, 0.072421, '3PbYm5SPCtbac8i71TAW88pvdgCJwwsFrK', '3DFojvVqZQs6wVbix5ged6GS4WTQgfaxwL'], ['1NDxDDSHVHvSv48vd27NNHkXHYZjDdVLss', 0.0, 0.000625, 0.000625, 0.68379236, 'd-d070c15982f2984efd2dbfee416ceb27', 'bc1qhywu63r9hara340nujsstdju3u0tnahf943tv4', 'bc1qmv2pxw5ahvwsu94kq5f520jgkmljs3af8ly6tr', '1NDxDDSHVHvSv48vd27NNHkXHYZjDdVLss'], ['1EjM4uUf4mnc2U98BvB8ZsuWDNuC3Uw3dU', 5.46e-06, 0.0858417, '1GrwDkr33gT6LuumniYjKEGjTLhsL5kmqC', 'bc1p4mv92fse0dxvnyf65fc4k5sqzyc6s04dhkka944a6rfsxd398x7q9ndnnj'], ['bc1qujepl0k5n0ga2e86yskvxa6auehpf6dlf84dx0', 0.00999599, 0.31752312, 'bc1q0p5nqm752dmttrkpnwwlkgfu2texdqyjq5ems8', 'bc1qujepl0k5n0ga2e86yskvxa6auehpf6dlf84dx0'], ['bc1qecacn8pyhekwmd8s0h7wmf8huxa24t4q2ywc83', 0.0034167, 'bc1q69c4kfuch38qq6krs034nv5q84r0dn69dt0w6d'], ['bc1qapa9ykmhure845tpk97m23s4wv6vnaq8msrsns', 0.00068263, 'bc1qyvh4jnf2ktdal4e8qpcl4949nmy9jy0jq2l9xk'], ['bc1q763gjsrjjrj8zz80dsssxj76sp7q2zzrd2mngh', 0.00032862, 0.00258086, 'bc1qjj2mrmt9caxsfhasyxyr4mugu95w05r0d6rdns', 'bc1q346gly5u9445j6xzl2v8zsc08wd9070zly627p'], ['363xM2GfPhNjj4FQZ15LuGnC2nCMwb5vae', 0.14431269, '37jdMXYbvg3dKzJ4pGSYiABiXoBy4putZq'], ['bc1qq904ynep5mvwpjxdlyecgeupg22dm8am6cfvgq', 0.80706749, 0.00336225, 0.00197845, 'bc1qq904ynep5mvwpjxdlyecgeupg22dm8am6cfvgq', 'bc1qct3yjsrnahhmgxw0waeyckng444asaw8q9z4wy', '17uFPnT6KK7hUwsd9QmDyQ4zfih2AcVNSt'], ['3G4LfPocSKet9CQJh1aNeNS5dco9JkpLFf', 0.03683534, '37jdMXYbvg3dKzJ4pGSYiABiXoBy4putZq'], ['bc1qprdf80adfz7aekh5nejjfrp3jksc8r929svpxk', 0.02346023, 0.01173184, 0.00234717, 0.0005797, 0.0002348, 0.00055292, 0.00474257, 0.00054723, 0.00582938, 0.00029765, 0.00175591, 0.00032784, 0.00034034, 0.00069459, 0.00586952, 0.00058475, 0.00022295, 0.01174, 0.000475, 0.00587, 61.55402084, 'bc1qk0sq5ahcdt34gv7qznaskylxx4q5hv2kfhp7a7', 'bc1qry5ym8v2qcj4t8js3we8es72upmt587u4hny8z', '18uzaPj7t7vpaoFP77XkLEgi1Fkt1wNPeW', 'bc1qdu3uxs9ke8xrcm08ld3wp6ulq999rpsvph32a4', 'bc1qatl08th8kh5s2cxasrulh2825dyr56eqvjm3ns', 'bc1qudy8vfwhrvx7cg5a3t4kc3f2a8he38zdq5p2ar', 'bc1qt8gqt4p5u7u5pgpf78tslz2s5xg3v0enec9s47', 'bc1qgkywe20fggqhykgp5pfc98u098l8zxcr64akk7', 'bc1qepg8n0rzr2289kd9zrxd5tytu32xwrqc3gakwja9nn7l4z2fedpsqyzwfu', 'bc1qrxet578xel0kc3ymwz5gpj0xnc8nx27e3kuv0w', 'bc1q7f22ee6sxjs0mplanpyg3wgr59m63ay0e7rlrk', 'bc1qw8cefwrtq600uamx53943tqck4ps6t3shlws49', 'bc1qp6z7ed0x40vcrty5kkxsh5agav6jvaramcc6ep', 'bc1qrjdk8ksvd6kw4clu67xy8rg957l5skuytp5hhl', '1PJe9G6ikJfH1xBRgmtGMLhNbeTWZo2WPD', 'bc1q6hx86drnlnfmlcuak2y86nykhyj2kru9edrysj', 'bc1qdh0rncp9v38x9t62xys65qac5pesare5qccnec', 'bc1qn8wxlys9e6ew2zrr58pxhl2u50t4fajqvr4ka4z8xjqgtn78zkaqh7nyp9', 'bc1qrg7aulad6ryux85f0pcj69nda6yqlejl79ryvj', 'bc1qffcyenlqrdn339qz8hvqjh4fcwq82usm0e6fq7', 'bc1qprdf80adfz7aekh5nejjfrp3jksc8r929svpxk'], ['1HVuZWgDoJk893MEgwNN4UZEPyi2c5yybF', 0.0943, 0.00031508, 'bc1qw6aqyj3vkv5rks5fry7vnu88gl6prwdx6d9yyq', '1HVuZWgDoJk893MEgwNN4UZEPyi2c5yybF'], ['bc1q3xdhkh2w5ulfq83kwwmksd4a9f07h7kzyylveu', 7.629e-05, 'bc1q4jjxqegnz6qxd4lpydn78cv336jgv7epnmjea8'], ['1QJaKdrSB2LCdXKMZYxdJYE5qikapbFLTk', 0.786901, 0.34200909, 'bc1qm62w9aufsgnr5jzpwcde02kmwcpus0pq4ud8qz', '1AQLXAB6aXSVbRMjbhSBudLf1kcsbWSEjg'], ['17fmsjLK2FAdpNreN29VxJCyEqHsC9TBps', 0.00669965, 0.88275267, '33pS2FEJQZzhx1aJT1muKzjKYrnhcein59', '1JCAMZZQMBHQJYag3PSnifwhdmPSU8GGWa'], ['bc1qp4nk7vqu0xzfr40maqs6mpmj4q99u6xaz0jzr8', 0.00176545, 'bc1q808hjgq3ey2ll4r4g44ky2f46zme5mswfhp429fvdpgkmactu5nsktna8d'], ['1GJKAGNDgtrtbGki95iEosPzaxN6AXrxTS', 0.01344101, 0.00087821, '1BFqPrt7gFw3vCi4x8gtc9exLwc1ubTsCn', '18orAztTBt8bATU269AatCbyWfgCT4Mr8A'], ['bc1qyyg7r67cea9vj0tmpvj2pwmw3klxxatusavlnu', 0.08802139, 0.26398327, '1JifAYT8Sx8Gi3YGbHvUYWToymbDit3x1v', 'bc1qyyg7r67cea9vj0tmpvj2pwmw3klxxatusavlnu'], ['bc1qesrvsn8g7ln6rmtru5kmuve4cma37r9gsrd78w', 1.05, 0.28163092, '153La7Fb1p9JLeM26UGmwTXZuMdA9fWmav', 'bc1qesrvsn8g7ln6rmtru5kmuve4cma37r9gsrd78w'], ['bc1qesrvsn8g7ln6rmtru5kmuve4cma37r9gsrd78w', 1.05, 0.37288107, '153La7Fb1p9JLeM26UGmwTXZuMdA9fWmav', 'bc1qesrvsn8g7ln6rmtru5kmuve4cma37r9gsrd78w'], ['bc1qesrvsn8g7ln6rmtru5kmuve4cma37r9gsrd78w', 1.05, 1.2089532, '153La7Fb1p9JLeM26UGmwTXZuMdA9fWmav', 'bc1qesrvsn8g7ln6rmtru5kmuve4cma37r9gsrd78w'], ['bc1qr35hws365juz5rtlsjtvmulu97957kqvr3zpw3', 1.78535222, 0.00117349, 0.00115972, 'bc1qr35hws365juz5rtlsjtvmulu97957kqvr3zpw3', 'bc1q4rh8e0zgngyj5q42pcw7y5pu5l64chg5t8mk63', 'bc1qd6kphu36vvynktt4l7vwyy7dtsc6rtyelfkejh'], ['14YTaEoeDA2ujjrJjZJ1HEBqU7ogrFo19S', 0.0010264, 'bc1qk9djsgp3nl55afm0kf9d0xugaqxf7z5kw9jc86'], ['bc1q08cuvy3rm6z87m3pscv2qtduk5wcfxttyjsvk4', 0.0011379, '15e6LKhS15GgQzuYA4GZPBfu89crNGJtZx'], ['bc1qhny4jjfgmn0gsw0dt5t49u66x5wujn23mhauy8', 0.00034028, '1DEUvvgVSzQ3JFt8hcCDngEipTrNu61BzQ'], ['bc1qpk3py3cyyn9dwvju78rmhc60e57t5h5qfkwdm3', 0.001005, 0.063, 'bc1qucg6yuqdx0zyq856ydmsfuxq0acfqftd89uy8m', '1LpTqNfkGKQfrdJ7H9WskPKbAZtYpY6AWy'], ['1GrwDkr33gT6LuumniYjKEGjTLhsL5kmqC', 0.00131158, 0.00156964, 0.016136, 15.60616667, '19KtkFhkcDayzeoTW49ZmfBG2pWtmGHYM7', 'bc1qady3xx5elwfhpv2zg79e4qwf3vqyrh4e3f76cc', 'bc1qz6ae8frwlrkhcmefj59jdxyyxrgjtllc6mylv6', '1GrwDkr33gT6LuumniYjKEGjTLhsL5kmqC'], ['bc1q5r7nzpzdw4p0mqdk6muvqa9rl5wpw98ke5zm2e', 0.0, 0.0005, 0.0005, 0.9194963, 'd-0d440da5208c803b76c596fd538c404a', 'bc1qhywu63r9hara340nujsstdju3u0tnahf943tv4', 'bc1qmv2pxw5ahvwsu94kq5f520jgkmljs3af8ly6tr', 'bc1q5r7nzpzdw4p0mqdk6muvqa9rl5wpw98ke5zm2e'], ['bc1qaukl0kf0aec88999tj5xdrtfz56awmqyj9zxeh', 0.0, 0.0005, 0.0005, 0.1765072, 'd-9a758669b307ff73406d11ea472ef6e7', 'bc1qhywu63r9hara340nujsstdju3u0tnahf943tv4', 'bc1qmv2pxw5ahvwsu94kq5f520jgkmljs3af8ly6tr', 'bc1qaukl0kf0aec88999tj5xdrtfz56awmqyj9zxeh'], ['bc1qngh6x2r72mp4nh88l083au728z7me0plytwfj7', 0.0154677, 1.10796676, '1GtaP6FR6CjzvmW3XPmWH4i8H3pZJ3yReJ', 'bc1qstpzhd7ydxd8qx007yyazgahww3zju6s7y4ere'], ['bc1qstpzhd7ydxd8qx007yyazgahww3zju6s7y4ere', 0.00341693, 1.10453573, 'bc1qcz34d4j3phadwpl0sevl7fpzn8c0jvpnk672c8', 'bc1qstpzhd7ydxd8qx007yyazgahww3zju6s7y4ere'], ['bc1qazzkxjfjrh3t50ng9vs04e0kpu3nhf704wqtf6', 0.0057, 0.0022718, 'bc1q2fhxvc8sn64qdg6cr27cu4sngh5p7rgdy7hv9a', 'bc1qazzkxjfjrh3t50ng9vs04e0kpu3nhf704wqtf6'], ['bc1qxx5yte5z3zjsgm9s9hzsn0vc9f82jnedjc55sa', 5.46e-06, 0.0, 0.00020542, 'bc1p7945eqdednmt4tgm49232m9fgltkm7vh6zpfkfhwlrrkf78vh4sqxn893v', 'd-8b0c0a6f9d16739d6207b1d8d37f3190', 'bc1qxx5yte5z3zjsgm9s9hzsn0vc9f82jnedjc55sa'], ['bc1qm34lsc65zpw79lxes69zkqmk6ee3ewf0j77s3h', 0.00010986, 1.26682585, 0.00513772, 0.00027, 0.004615, 0.004999, 2.09967, 0.00097, 'bc1pzve7u9af572xcn3kukyr8pjch4f2z9usq8rgyljcjjvm3xd6dx6stalvrj', 'bc1qm34lsc65zpw79lxes69zkqmk6ee3ewf0j77s3h', '1AFXcgLVyuhDJEMdaVtzkG5b9BNce2VzCQ', 'bc1qf8g0yflumhkw3z7rau59z2ycgydu5473mszv2r', 'bc1q2l68lwt0v7fd30tsmyk6qedqq77uegznqenn72', 'bc1qj627g5840yq5c4madyy3a7g5kpyd0mvruz7rlt', 'bc1qesrvsn8g7ln6rmtru5kmuve4cma37r9gsrd78w', 'bc1qh2sch24ehh422vye9hu2vhyasre7lyyfz7pwex'], ['bc1qr35hws365juz5rtlsjtvmulu97957kqvr3zpw3', 0.40695008, 0.00387676, 0.00348267, 0.00045327, 'bc1qr35hws365juz5rtlsjtvmulu97957kqvr3zpw3', 'bc1qk7guwdre9p32nuygkann0ty4udz2fucaw4udtd', '1HAVuZYDCtoW6B5fzgVs8z5z32kXdgB4rn', 'bc1qdc3t93cnmvcemwsep38xnsame8rwydyhyy65yc'], ['bc1qt9nvg8mwuqmjlruc8z9m4kns2hd3gk2ylsdryp', 0.00024528, 0.00219235, 0.39435512, 'bc1qjdmz3lhkzmw3dwt85nkjqqrpmmwwtuvx3g7ru7', '39AsjCScrgnxGVQ6PgHa7fzMrowbQAerAT', 'bc1qt9nvg8mwuqmjlruc8z9m4kns2hd3gk2ylsdryp'], ['bc1q8tj9p6e8qgsslgwfraz8qsp493zw583tnlv790', 0.00057491, 'bc1qcxs5r8xp7dngyq6460yg08mp9j9kmscjw89epq'], ['37V9ZZrkvorxfUzEZqPYVXF7SAb7yvbdpF', 0.0088394, 8.928e-05, 0.00055315, '3JxxUkabeGGTS31rZfWra8wvRZXmFNf5HG', '399De5kPa8cyyTRyMaFwz2x8m61wEEMT2U', '37V9ZZrkvorxfUzEZqPYVXF7SAb7yvbdpF'], ['bc1qc7w7h2sz3nx376kxnrlu3vh9s9t5n32pftxxk9', 0.0006122, '1AL6ezKo85SQhjmLDVEuyQkhDYiGNqPagT'], ['bc1pexfjmvu0rc5z2wk9rk6ed8wrush9ryemgr4vaqezjhhaxtqrd7dsyhmsnz', 0.01664, 'bc1p2082vt3w9hmn0ga6zj35nswk9gu3ud0vgmw47uqgstt7v5gtpwnqcezhrf'], ['bc1q5wyrmt9fxyj2nyn58xua5d978m5zdccymu33kj', 0.0011749, 0.000371, 'bc1qyte4kl3e5znx30gv92a6uagdj48c6wylupm92m', 'bc1qdl74ua0rxufkta5rx68rnplx4s4972g4xx75j5'], ['bc1q9qwrgefht4qadqkvg7lk2s330kds9yggpkxc06', 0.3, 0.1481607, 0.0, 'bc1qnam394xv9p67c6urspjerak92u0esvtw7lyfv4', 'bc1q9qwrgefht4qadqkvg7lk2s330kds9yggpkxc06', 'd-932f932ec132c2385a8bb60b7bc3d9fb'], ['3HN1tuJjCxReVc4qGAcM64B478utzr4DPt', 0.000294, 0.00028981, 'bc1qxk2pp7hrckcg72pw9ye70647t8dkrq34lplvar', '3HN1tuJjCxReVc4qGAcM64B478utzr4DPt'], ['14AUg5fvNeoJmhLm7mvBcNsrxVB8xgrczq', 0.0, 0.00075, 0.00075, 1.25202002, 'd-5a1735b828a80f5f819d110221d8909b', 'bc1qhywu63r9hara340nujsstdju3u0tnahf943tv4', 'bc1qmv2pxw5ahvwsu94kq5f520jgkmljs3af8ly6tr', '14AUg5fvNeoJmhLm7mvBcNsrxVB8xgrczq'], ['1AhKLJszJHJwX8EEqmkTn9nQQN8Qd1GuMp', 0.00073363, 'bc1qlt3ceyfldh9j5t4ne853dxkng6g6s4ukmlugz8'], ['bc1qvaey0gvjgrxu5sx00572d7eumvercs6f9vm93q', 0.00093428, 6.011e-05, 'bc1qdlzmp6u2vswhw9dqhs6v0cahxg86j6cyqmxkum', 'bc1qdmhccqmxzkq3qk4p30zx78jrnvzw5034pw038a'], ['bc1qt9nvg8mwuqmjlruc8z9m4kns2hd3gk2ylsdryp', 0.00100019, 0.39334251, '13dsT4uWWbJD9fzZKVM7JLrGUAjDohQoQU', 'bc1qt9nvg8mwuqmjlruc8z9m4kns2hd3gk2ylsdryp'], ['1HjmsMmCRUX6cejSWg1okPQJ7dYRzMw394', 0.00071596, 'bc1qfjescn8994p3hkn8j4euxu9ydu6wk5y4kw0cvk'], ['bc1qa3x9yme8tjla88n2l52xqsncphr0hetklzf3ht', 0.00011502, 'bc1q45nn4hr72qtz2euv77ykt7l5n0tskahrrraxe0'], ['bc1qyh9hr8gtk3fzepcd8h3kl7qwxrsulqx5r88j6l', 0.00272062, 'bc1qy0vk6xkjxsnt9zwv26w0r648f4hdx34lgjf3y0'], ['bc1qnqd888a9268ylgpwl0ycxf7jec5va2tjyedt9r', 0.23166733, 0.00417692, 'bc1q9yn6zdkjjlh0z5y6sqpdvwq7pwkeh5r0ka28ad', 'bc1q834np2rm9sp5g83tvrzdtle77jnkaqllmqt4kl'], ['bc1q2yr2tduj8swaxkearanr09aw434r3arrr5m909', 0.66697355, 34.42230562, 0.0, 'bc1qesrvsn8g7ln6rmtru5kmuve4cma37r9gsrd78w', 'bc1q2yr2tduj8swaxkearanr09aw434r3arrr5m909', 'd-80ffeb06700d4cba79dbbb015c0a05c1'], ['bc1qywnhcqdqu0g6qqc635tkrzf5pmzhkdvky053np', 0.00429062, '34BVeTu7EoSrcBCbCm8u8hmrQCZAV3v1hr'], ['1A3tSoVBXLm8uFDD5mZmz1hLA1pody11Ub', 0.00036916, 0.0005, 0.00071, 0.00121283, 0.00262512, 0.24003595, 'bc1qj4f69nr8utgsp3hz3aqznm7l47k6s4tysydfja', 'bc1qrrksypa6rm0l3kwu4ccnmece00m4rtueq9tsz2', 'bc1q27sqktxfcvjkgwfy8ps6gd4gcc7ndlgf2mcqdr', 'bc1qjsd92u796l4mtghw06mzfy4lpfxkccvd3etd4x', 'bc1qev30jtw6jl6spzkhpxuhea8v4zwex9zxene0zf', '1QAaan7kcgYKHUP1adVicwDVw4YgXnhSq4'], ['bc1qdfqgczflur8xjxtgaqmgqyvy695a8p3mc6lf5d', 0.004001, 0.0, 0.43831285, 'bc1py54h7lxe0adqp323zu3ll72gz4cm8qfcktrknp4x7sz8vr4vcw3qjruy5h', 'd-4e7f10ec291c8870977f6d496acd1284', 'bc1qdfqgczflur8xjxtgaqmgqyvy695a8p3mc6lf5d'], ['bc1qfapg7ynd3dnzm6huknjk8z8zyyw9mkva338k93', 0.0014224, 'bc1qpj9d5sp25acmtrtj2hp7jelfhlwl88y3aaryde'], ['bc1qyuarayc2x2msfgalh7wyfnwp6g3amesdmf9ut0', 0.00070402, 0.04101294, '13r9LxLiShg9WkBKGGN9LpnSHtTAqouMbd', 'bc1qrn7n7syxg602sqvy23kn4nw37cj82dmklcsdsq'], ['1NDgTyqsPr9H2juZ5LyUmpn9iuUiPikTX8', 0.00131425, 'bc1q43xe96as9lukyplu0h66apwpqtpsphjvtx5pk0'], ['37Pf26opHyUEtbMqUWufpussdYd9N9EucF', 0.01112452, 0.00305, 0.00447, 0.00162504, 0.00305, 0.00132842, 0.99952, 0.13412703, 'bc1qzrfka9gx4sy7l2cwlpu6fk9lhdu8ufsg7n8twa', 'bc1p2t2mqda0cuu3cv5a2epqmy0duhzxq6swat0qmj8sfmw0rq47kgjsc6dvzg', 'bc1p23023hnprw0735s96x9amdtjerzjgxpthy5q7g2074f7gcy3vu5sxg8c8e', 'bc1pg39cnm8yl7td2kt5elt4w7hxpelsmmy4l0td90jnagzk0azmg8nq2mty8h', 'bc1p0nmv7cq62teuggengspjc5u8yhtm93uuzz8ffe0rs5ddfpy8akrsdxp7qe', 'bc1pdndnl9c08jwsqldkwk4ndv5hpw8gz357yuy8sw4xlmx79jvps0gquyuxc7', '1NvbwiFJB5pau1JPwbFJcPkK3VExgHCsAd', 'bc1quhruqrghgcca950rvhtrg7cpd7u8k6svpzgzmrjy8xyukacl5lkq0r8l2d'], ['bc1qj5p7fd24lg6tn79x2tsv85ge2dl3afyrwzny3e', 0.00059, 0.09097498, 0.00065683, 0.00041, 0.000474, 0.00134235, 0.0013422, 'bc1q7ws7tnthe5dagetds4zcay6qqjgrwyz4f76cmk', 'bc1q7h4m7dqnfvq7t03rrx77y3e9jnn7hzjughknts', 'bc1qcj3g33tata393lndg732gxmjcrqmruzg7qrjuq', 'bc1qwe7wqg90h42q8mw8ywdffaga8j7q9skgmn8zcq', 'bc1qngwg6hqdt5gr556xrr4wmzssce05g3ptqdnyvw', 'bc1q30zty8epk8lvdh7faxrd38hp5rkmnncgdv356z', 'bc1qj0m4kj5g3ec5w53me663a4c2gh55u8m90g76vs'], ['bc1qsvm6ug3sqwr4rn9u6r09ey96dmat6wtqgnv8ps', 0.2, 0.73337429, '3GXxQ8eU3RUhzaPCTzrDpH3bPvzA8eyxpj', 'bc1qsvm6ug3sqwr4rn9u6r09ey96dmat6wtqgnv8ps'], ['bc1qxzu46r9v5fpf3pzw73pnw5jmy9qcv072gfjgd3', 0.00175717, 'bc1q8xwnxajn580994hvkheuukdlazecthawcg9mvg'], ['bc1qnkgnr5xsmw9pfhlj85e2v7dquhc55u72ysn9cz', 0.00163144, 0.00420908, 'bc1qd2xjvwe34r4d68l67kjeyufcj9hapqucsqd8mg', 'bc1q34n4qh4dj66v5wj55cwa6vu3ln6cg0pzj4sq4x'], ['bc1q98auapdj3c4m2grz5pw90qmvppd223rukaljqx', 0.0025759, 0.00093858, 'bc1qlz8z6009yv9eu672klujt2u674p747ef3pfp6x', 'bc1q4je5ck3yfg79y6qqqdryyvj0xs4y85u9sr8p2j'], ['bc1qlz8z6009yv9eu672klujt2u674p747ef3pfp6x', 0.00256652, 'bc1qrs0tqc0vphj29ulkl39ua0vnuu5surk623ake9'], ['bc1qqz623jyqdsh2w5y5kdmzk2ws6mzr2mt2etv5gx', 0.03893491, 0.01027561, 'bc1qqz623jyqdsh2w5y5kdmzk2ws6mzr2mt2etv5gx', '3BrFRBR7tYbqx8xJRTKvJSAQFFUB8skNGe'], ['bc1p2r8qazslpc8p4wpfzaq0qjjn4pleaaac2afhcxdp4r7wttcd35sq8pncyr', 1.306e-05, 'bc1p8h5ts8yudlnr3ty5d5nyuxcrz5chvath8tqcvrjenf20spdp5l0slr8zz5'], ['bc1q7j34xkuv70ep78xwsf5a09rqkfzgjh2c4fzgdc', 0.0001174, 4.709e-05, 'bc1qxv59y4pxaw654jhh9eqfu66ppwtyltf7azq8ea', 'bc1qj00fhhvyg0rwuqhnfhendwrkghws0jam8va3h6'], ['bc1qhufxpul2yj9v7mvxtd585dfs4rw5mnheu7n55p', 0.66697356, 88.76181877, 0.0, 'bc1qesrvsn8g7ln6rmtru5kmuve4cma37r9gsrd78w', 'bc1qhufxpul2yj9v7mvxtd585dfs4rw5mnheu7n55p', 'd-8d8be9b78c97cb4e40155f88cdad6983'], ['bc1pgd2yk7uztksjhjptta8nhamr2enh0nu4z0shgn0krh5k3xxlufmq3ajxnz', 1.2e-05, 3.3e-06, 0.00661301, 6e-06, 6e-06, 0.00060811, 'bc1pgd2yk7uztksjhjptta8nhamr2enh0nu4z0shgn0krh5k3xxlufmq3ajxnz', 'bc1pgd2yk7uztksjhjptta8nhamr2enh0nu4z0shgn0krh5k3xxlufmq3ajxnz', 'bc1pl90vnhufpkksv608vhn5yfpsceu3a36lz06ndau4gf2gwkxmtn6shtzcg4', 'bc1pgd2yk7uztksjhjptta8nhamr2enh0nu4z0shgn0krh5k3xxlufmq3ajxnz', 'bc1pgd2yk7uztksjhjptta8nhamr2enh0nu4z0shgn0krh5k3xxlufmq3ajxnz', 'bc1pgd2yk7uztksjhjptta8nhamr2enh0nu4z0shgn0krh5k3xxlufmq3ajxnz'], ['bc1q9wvygkq7h9xgcp59mc6ghzczrqlgrj9k3ey9tz', 0.03847865, 0.01350796, 'bc1qg53uj32lqkcyyn76qxt2jazz0m37kgutq6uy55', 'bc1qrt7rkpswpgmcag7txzf6ps9mvepwgndshqdx6d'], ['bc1p2fdxzdn896q7dqprmxgnva4lsld86w5f3el4c2wm2eykzumvjy3q9mf7ys', 1.2e-05, 3.3e-06, 0.00666871, 6e-06, 6e-06, 0.00035122, 'bc1p2fdxzdn896q7dqprmxgnva4lsld86w5f3el4c2wm2eykzumvjy3q9mf7ys', 'bc1p2fdxzdn896q7dqprmxgnva4lsld86w5f3el4c2wm2eykzumvjy3q9mf7ys', 'bc1pnakp704shrc9a73r3mnhglqwx07x9szur5p0px0d6cmgyycjcdhsgwgqhp', 'bc1p2fdxzdn896q7dqprmxgnva4lsld86w5f3el4c2wm2eykzumvjy3q9mf7ys', 'bc1p2fdxzdn896q7dqprmxgnva4lsld86w5f3el4c2wm2eykzumvjy3q9mf7ys', 'bc1p2fdxzdn896q7dqprmxgnva4lsld86w5f3el4c2wm2eykzumvjy3q9mf7ys'], ['bc1p630msfhqsncxcmem9hckhe9l737xqaxxu36v3n46p3cvx002uywqnsv9mh', 1.2e-05, 3.3e-06, 0.0066545, 6e-06, 6e-06, 0.00014487, 'bc1p630msfhqsncxcmem9hckhe9l737xqaxxu36v3n46p3cvx002uywqnsv9mh', 'bc1p630msfhqsncxcmem9hckhe9l737xqaxxu36v3n46p3cvx002uywqnsv9mh', 'bc1pvmwdf6hx59vpf2vxnj97mty9wwldkz5qe92ch0tazmgw0azgr6ksh82cwr', 'bc1p630msfhqsncxcmem9hckhe9l737xqaxxu36v3n46p3cvx002uywqnsv9mh', 'bc1p630msfhqsncxcmem9hckhe9l737xqaxxu36v3n46p3cvx002uywqnsv9mh', 'bc1p630msfhqsncxcmem9hckhe9l737xqaxxu36v3n46p3cvx002uywqnsv9mh'], ['bc1q5ux246q5cmutvflh6d826fu3w7f5re8du0yjwk', 1.61e-05, 0.00543203, 'bc1qmn9kgd9wm474y86plnesx27tszlkl97wgcx7lv', 'bc1qrtft87695eddyhydtd6wk4dpu7z08e37nh8unv'], ['bc1qr35hws365juz5rtlsjtvmulu97957kqvr3zpw3', 0.69373625, 0.01165269, 0.00272665, 0.00234702, 0.00228518, 0.00117351, 'bc1qr35hws365juz5rtlsjtvmulu97957kqvr3zpw3', 'bc1q7cv05amnlm8u87xuucqvp9jlzdlqevp75pvsxn', 'bc1qe7xyyd0cpn935stnrwpekejqhj9w9tzwa0y2sm', 'bc1qghpzg3hn726d385xa7j0xncts4f2eak458hhag', 'bc1q433elpagke5ykwvwjmz2qt8ewpu2eeuq7wamwf', '15RQELQGSfaGgTXkYFY1HxNnWsSKm5eeCZ'], ['14UgKjPx3ynmtgUiJFEcFGCJrfD9bqc1ma', 0.00152591, 'bc1q3fdrsvutthlhvc4uw969t8f42zuz2hsy3p5yaa'], ['bc1pucy9d6d6jc3x6yu9nflwm6kptyme7779xuywh5ngh532dr83c67s4ltzsh', 1.2e-05, 3.3e-06, 0.0062495, 6e-06, 6e-06, 0.00072498, 'bc1pucy9d6d6jc3x6yu9nflwm6kptyme7779xuywh5ngh532dr83c67s4ltzsh', 'bc1pucy9d6d6jc3x6yu9nflwm6kptyme7779xuywh5ngh532dr83c67s4ltzsh', 'bc1pnakp704shrc9a73r3mnhglqwx07x9szur5p0px0d6cmgyycjcdhsgwgqhp', 'bc1pucy9d6d6jc3x6yu9nflwm6kptyme7779xuywh5ngh532dr83c67s4ltzsh', 'bc1pucy9d6d6jc3x6yu9nflwm6kptyme7779xuywh5ngh532dr83c67s4ltzsh', 'bc1pucy9d6d6jc3x6yu9nflwm6kptyme7779xuywh5ngh532dr83c67s4ltzsh'], ['bc1p3uhw8ruz4qmcry44kjn2gpt9x2fn3aq0eex4kazg6uv97mm6s6sslrma8r', 1.2e-05, 3.3e-06, 0.00667493, 6e-06, 6e-06, 0.00020402, 'bc1p3uhw8ruz4qmcry44kjn2gpt9x2fn3aq0eex4kazg6uv97mm6s6sslrma8r', 'bc1p3uhw8ruz4qmcry44kjn2gpt9x2fn3aq0eex4kazg6uv97mm6s6sslrma8r', 'bc1phhjeqfaqvenrgwndzcfa65m4e249lau8av7etlxdsjs48nc5ad7sfqymaw', 'bc1p3uhw8ruz4qmcry44kjn2gpt9x2fn3aq0eex4kazg6uv97mm6s6sslrma8r', 'bc1p3uhw8ruz4qmcry44kjn2gpt9x2fn3aq0eex4kazg6uv97mm6s6sslrma8r', 'bc1p3uhw8ruz4qmcry44kjn2gpt9x2fn3aq0eex4kazg6uv97mm6s6sslrma8r'], ['bc1ppu5yy8e9c466gzzh7756h0usana7alez5t2f3f6el2d06cz7et6ss8kfng', 1.2e-05, 3.3e-06, 0.00622605, 6e-06, 6e-06, 0.00109728, 'bc1ppu5yy8e9c466gzzh7756h0usana7alez5t2f3f6el2d06cz7et6ss8kfng', 'bc1ppu5yy8e9c466gzzh7756h0usana7alez5t2f3f6el2d06cz7et6ss8kfng', 'bc1p427ja4e2aq53c2g4uxz8cq8dme5f4s047c4kcqhaaqmzyl6760uqshlglr', 'bc1ppu5yy8e9c466gzzh7756h0usana7alez5t2f3f6el2d06cz7et6ss8kfng', 'bc1ppu5yy8e9c466gzzh7756h0usana7alez5t2f3f6el2d06cz7et6ss8kfng', 'bc1ppu5yy8e9c466gzzh7756h0usana7alez5t2f3f6el2d06cz7et6ss8kfng'], ['3M7cMRqG9nPxmTEe1DGcoiuixLJquwaXBA', 7.04e-06, 0.00012149, 'bc1qfcgrdw99lr7v2sp6at6vna7dxhwvcrgj0s887w', '1DesU6q4xheWHRcfXtd2iYgCrP8JbWxw4v'], ['16xapSYeiFDxTkZgVve1LhUiSRKr4SzGDn', 0.00017607, 'bc1q8yf924hp3h35jfxshzjec0p8kunuyuhthrvaxu'], ['bc1qgppkrl62z2vzcwfc6795fqjqjfxlw5cj047tup', 0.00038716, 0.00016064, 'bc1q9tj26juzq2y6f8hxg0dqs57sz55ktj7u469flr', 'bc1qzqttsr05d96c05yxasshqmhhklfa6xtc96l9v0'], ['15jcvSQFKTgoNknJZK2QoBQLBcPdRY1jyM', 0.00026751, 'bc1q3nyd6fwp6wfcth6pw2f225evdmh0lxn8gyq4vj'], ['bc1qdsaeedupwe7endschpycyry0chmnr6rqpj4vxu', 0.00130346, 0.02388856, 0.00639398, 'bc1qqf3tlpttzfrpjn38e2me2z0cnm50g3lfm50xmf9l83a4us0rk2ysk65ahf', 'bc1qsxxhr86r43676pxapt8jjavc7pl2j0gp4ejvx7', 'bc1quq29mutxkgxmjfdr7ayj3zd9ad0ld5mrhh89l2'], ['bc1qxlne4qmmgpc6rlrvrdyjprnay9q6ykg98gz2j3', 0.0, 0.000625, 0.000625, 1.1053901, 'd-e04892bd84a68b533f76997af774aac8', 'bc1qhywu63r9hara340nujsstdju3u0tnahf943tv4', 'bc1qmv2pxw5ahvwsu94kq5f520jgkmljs3af8ly6tr', 'bc1qxlne4qmmgpc6rlrvrdyjprnay9q6ykg98gz2j3'], ['bc1psweyq7reqvc53092k46lwy7p8rsg8cr05z586mukfl0jtpet8krst0mnv2', 0.0001428, 0.0003997, 0.36562225, '3HoZTuciMgu8meabCp7VJ8QhrV3iKrX2Fr', '32GjvrqJSyHS4DA4USfQVjCNtacnzyjzKs', 'bc1psweyq7reqvc53092k46lwy7p8rsg8cr05z586mukfl0jtpet8krst0mnv2'], ['bc1psweyq7reqvc53092k46lwy7p8rsg8cr05z586mukfl0jtpet8krst0mnv2', 0.00028421, 0.36532796, '3Dugh5kYswWN8PuLwk1ymA3aAKjCPuhYWs', 'bc1psweyq7reqvc53092k46lwy7p8rsg8cr05z586mukfl0jtpet8krst0mnv2']]\n"
     ]
    }
   ],
   "source": [
    "\n",
    "def get_addresse_inputs_and_outputs(trans_hash):\n",
    "    \n",
    "    \n",
    "    try:\n",
    "        response = requests.get(f\"https://api.blockchair.com/bitcoin/dashboards/transaction/{trans_hash}\")\n",
    "        if response.status_code != 200:\n",
    "            return\n",
    "        \n",
    "        json_data = response.json()\n",
    "    except Exception as e:\n",
    "        print(f\"❌ Failed to parse JSON for {trans_hash}: {e}\")\n",
    "        return\n",
    "\n",
    "    data_dict = json_data.get('data', {})\n",
    "    if trans_hash not in data_dict:\n",
    "        print(f\"❌ Transaction hash not found in response: {trans_hash}\")\n",
    "        return\n",
    "\n",
    "    data = data_dict[trans_hash]\n",
    "    \n",
    "    if data.get('transaction', {}).get('is_coinbase'):\n",
    "        print(f\"⛏️ Coinbase transaction skipped: {trans_hash}\")\n",
    "        return\n",
    "\n",
    "    inputs = data.get('inputs', [])\n",
    "    outputs = data.get('outputs', [])\n",
    "    \n",
    "    if not inputs:\n",
    "        print(f\"⚠️ No inputs found for transaction {trans_hash}\")\n",
    "        return\n",
    "\n",
    "    if not outputs:\n",
    "        print(f\"⚠️ No outputs found for transaction {trans_hash}\")\n",
    "        return\n",
    "\n",
    "    input_wallet = inputs[0].get('recipient', 'UNKNOWN_INPUT')\n",
    "    output_wallets = [output.get('recipient', 'UNKNOWN_OUTPUT') for output in outputs]\n",
    "    output_values = [output.get('value', 0) / 100000000 for output in outputs]\n",
    "    \n",
    "\n",
    "    combined = [input_wallet, *output_values, *output_wallets]\n",
    "    list_of_wallets.append(combined)    \n",
    "\n",
    "list_of_wallets = []\n",
    "for i in transactions[:1000]:\n",
    "    get_addresse_inputs_and_outputs(i)\n",
    "    time.sleep(1.5)\n",
    "\n",
    "print(list_of_wallets)"
   ]
  },
  {
   "cell_type": "markdown",
   "metadata": {},
   "source": [
    "Now that we have our addresses and hashes, lets write it to a file!"
   ]
  },
  {
   "cell_type": "code",
   "execution_count": 33,
   "metadata": {},
   "outputs": [],
   "source": [
    "import csv\n",
    "\n",
    "with open('walletswithweight.csv', 'a', newline='') as csvfile:\n",
    "    writer = csv.writer(csvfile)\n",
    "    writer.writerow(['Input', 'Value1', 'Value2', '...', 'Output1', 'Output2', '...'])\n",
    "    for row in list_of_wallets:\n",
    "        writer.writerow(row)"
   ]
  }
 ],
 "metadata": {
  "kernelspec": {
   "display_name": "Python 3",
   "language": "python",
   "name": "python3"
  },
  "language_info": {
   "codemirror_mode": {
    "name": "ipython",
    "version": 3
   },
   "file_extension": ".py",
   "mimetype": "text/x-python",
   "name": "python",
   "nbconvert_exporter": "python",
   "pygments_lexer": "ipython3",
   "version": "3.12.6"
  }
 },
 "nbformat": 4,
 "nbformat_minor": 2
}
