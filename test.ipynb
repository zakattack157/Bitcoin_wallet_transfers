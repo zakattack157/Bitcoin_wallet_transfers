{
 "cells": [
  {
   "cell_type": "code",
   "execution_count": null,
   "id": "0c8652a4",
   "metadata": {},
   "outputs": [],
   "source": [
    "import requests\n",
    "import csv"
   ]
  },
  {
   "cell_type": "code",
   "execution_count": 5,
   "id": "c8959ea6",
   "metadata": {},
   "outputs": [
    {
     "name": "stdout",
     "output_type": "stream",
     "text": [
      "[ERROR] Failed to fetch transactions for 1NDxDDSHVHvSv48vd27NNHkXHYZjDdVLss: HTTP 430\n"
     ]
    }
   ],
   "source": [
    "def get_transactions(address):\n",
    "    url = f\"https://api.blockchair.com/bitcoin/dashboards/address/{address}\"\n",
    "    response = requests.get(url)\n",
    "\n",
    "    if response.status_code != 200:\n",
    "        print(f\"[ERROR] Failed to fetch transactions for {address}: HTTP {response.status_code}\")\n",
    "        return []\n",
    "\n",
    "    try:\n",
    "        data = response.json()\n",
    "        if not data or \"data\" not in data or address not in data[\"data\"]:\n",
    "            print(f\"[ERROR] No transaction data found for {address}\")\n",
    "            return []\n",
    "        txs = data[\"data\"][address][\"transactions\"]\n",
    "        return txs\n",
    "    except Exception as e:\n",
    "        print(f\"[ERROR] Exception while processing transactions for {address}: {e}\")\n",
    "        return []\n",
    "\n",
    "def get_tx_details(tx_hash):\n",
    "    url = f\"https://api.blockchair.com/bitcoin/raw/transaction/{tx_hash}\"\n",
    "    response = requests.get(url)\n",
    "    tx_data = response.json()\n",
    "    inputs = []\n",
    "    outputs = []\n",
    "\n",
    "    try:\n",
    "        tx_info = tx_data[\"data\"][tx_hash]\n",
    "        for i in tx_info[\"inputs\"]:\n",
    "            if \"recipient\" in i and i[\"recipient\"]:\n",
    "                inputs.append(i[\"recipient\"])\n",
    "        for o in tx_info[\"outputs\"]:\n",
    "            if \"recipient\" in o and o[\"recipient\"]:\n",
    "                outputs.append(o[\"recipient\"])\n",
    "    except Exception as e:\n",
    "        print(f\"Error processing {tx_hash}: {e}\")\n",
    "\n",
    "    return inputs, outputs  \n",
    "\n",
    "def get_connected_addresses(start_address):\n",
    "    connected = set()\n",
    "    transactions = get_transactions(start_address)\n",
    "    \n",
    "    for tx in transactions:\n",
    "        inputs, outputs = get_tx_details(tx)\n",
    "        for addr in inputs + outputs:\n",
    "            if addr != start_address:\n",
    "                connected.add(addr)\n",
    "    \n",
    "    \n",
    "start = \"1NDxDDSHVHvSv48vd27NNHkXHYZjDdVLss\"\n",
    "related_addresses = get_connected_addresses(start)"
   ]
  }
 ],
 "metadata": {
  "kernelspec": {
   "display_name": "Python 3",
   "language": "python",
   "name": "python3"
  },
  "language_info": {
   "codemirror_mode": {
    "name": "ipython",
    "version": 3
   },
   "file_extension": ".py",
   "mimetype": "text/x-python",
   "name": "python",
   "nbconvert_exporter": "python",
   "pygments_lexer": "ipython3",
   "version": "3.12.6"
  }
 },
 "nbformat": 4,
 "nbformat_minor": 5
}
